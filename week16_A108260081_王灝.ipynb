{
  "nbformat": 4,
  "nbformat_minor": 0,
  "metadata": {
    "colab": {
      "name": "week16_A108260081_王灝.ipynb",
      "provenance": [],
      "include_colab_link": true
    },
    "kernelspec": {
      "name": "python3",
      "display_name": "Python 3"
    }
  },
  "cells": [
    {
      "cell_type": "markdown",
      "metadata": {
        "id": "view-in-github",
        "colab_type": "text"
      },
      "source": [
        "<a href=\"https://colab.research.google.com/github/wh891230/Computational-Thinking-and-Program-Design/blob/master/week16_A108260081_%E7%8E%8B%E7%81%9D.ipynb\" target=\"_parent\"><img src=\"https://colab.research.google.com/assets/colab-badge.svg\" alt=\"Open In Colab\"/></a>"
      ]
    },
    {
      "cell_type": "code",
      "metadata": {
        "id": "5Vqhfai2wrt5",
        "colab_type": "code",
        "colab": {
          "base_uri": "https://localhost:8080/",
          "height": 85
        },
        "outputId": "3996f2ad-2291-454e-daf6-368997c01fa5"
      },
      "source": [
        "answer = \"b246\"\n",
        "\n",
        "while True:\n",
        "  password = input(\"Enter your password?\")\n",
        "  if password == answer:\n",
        "    print(\"ENTER THE SYSTEM\")\n",
        "    break\n",
        "  else:\n",
        "    print(\"Try again\")"
      ],
      "execution_count": 3,
      "outputs": [
        {
          "output_type": "stream",
          "text": [
            "Enter your password?a246\n",
            "Try again\n",
            "Enter your password?b246\n",
            "ENTER THE SYSTEM\n"
          ],
          "name": "stdout"
        }
      ]
    },
    {
      "cell_type": "code",
      "metadata": {
        "id": "2jPwhVuPxOXw",
        "colab_type": "code",
        "colab": {
          "base_uri": "https://localhost:8080/",
          "height": 119
        },
        "outputId": "407e54a4-de90-462d-a632-bb86bf7df6fd"
      },
      "source": [
        "while True:\n",
        "  acc = input('請輸入帳號？')\n",
        "  pwd = input('請輸入密碼？')\n",
        "  if (acc == 'abc' and pwd == '123'):\n",
        "    print('帳號與密碼正確')\n",
        "    break\n",
        "  else:\n",
        "    print('登入失敗')\n"
      ],
      "execution_count": 2,
      "outputs": [
        {
          "output_type": "stream",
          "text": [
            "請輸入帳號？abc\n",
            "請輸入密碼？456\n",
            "登入失敗\n",
            "請輸入帳號？abc\n",
            "請輸入密碼？123\n",
            "帳號與密碼正確\n"
          ],
          "name": "stdout"
        }
      ]
    },
    {
      "cell_type": "code",
      "metadata": {
        "id": "lfrhnTyn0cj-",
        "colab_type": "code",
        "colab": {
          "base_uri": "https://localhost:8080/",
          "height": 204
        },
        "outputId": "e7487bdc-8ce6-4e72-8f99-a4473dc9240d"
      },
      "source": [
        "range(5)\n",
        "\n",
        "range(2,5)\n",
        "\n",
        "range(2,10,3)\n",
        "\n",
        "for i in range(5):\n",
        "  print(i)\n",
        "\n",
        "for i in range(2,5):\n",
        "  print(i)\n",
        "for i in range(2,10,3):\n",
        "  print(i)"
      ],
      "execution_count": 4,
      "outputs": [
        {
          "output_type": "stream",
          "text": [
            "0\n",
            "1\n",
            "2\n",
            "3\n",
            "4\n",
            "2\n",
            "3\n",
            "4\n",
            "2\n",
            "5\n",
            "8\n"
          ],
          "name": "stdout"
        }
      ]
    },
    {
      "cell_type": "code",
      "metadata": {
        "id": "hryWBsyx5zdc",
        "colab_type": "code",
        "colab": {
          "base_uri": "https://localhost:8080/",
          "height": 136
        },
        "outputId": "e88a5bae-a937-4610-a242-6da11a9a4930"
      },
      "source": [
        "start = int(input(\"Enter a number?\"))\n",
        "end = int(input(\"enter a number?\"))\n",
        "step = int(input(\"enter a number?\"))\n",
        "\n",
        "sum = 0\n",
        "\n",
        "for i in range(start, end, step):\n",
        "  sum = sum + i\n",
        "  print(\"i is\", i, \"sum equals\", sum)"
      ],
      "execution_count": 7,
      "outputs": [
        {
          "output_type": "stream",
          "text": [
            "Enter a number?3\n",
            "enter a number?13\n",
            "enter a number?3\n",
            "i is 3 sum equals 3\n",
            "i is 6 sum equals 9\n",
            "i is 9 sum equals 18\n",
            "i is 12 sum equals 30\n"
          ],
          "name": "stdout"
        }
      ]
    },
    {
      "cell_type": "code",
      "metadata": {
        "id": "gXqIZI_89SuO",
        "colab_type": "code",
        "colab": {}
      },
      "source": [
        ""
      ],
      "execution_count": 0,
      "outputs": []
    }
  ]
}