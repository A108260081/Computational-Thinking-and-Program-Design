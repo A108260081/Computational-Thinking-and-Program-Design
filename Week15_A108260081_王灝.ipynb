{
  "nbformat": 4,
  "nbformat_minor": 0,
  "metadata": {
    "colab": {
      "name": "Week15-A108260081-王灝.ipynb",
      "provenance": [],
      "include_colab_link": true
    },
    "kernelspec": {
      "name": "python3",
      "display_name": "Python 3"
    }
  },
  "cells": [
    {
      "cell_type": "markdown",
      "metadata": {
        "id": "view-in-github",
        "colab_type": "text"
      },
      "source": [
        "<a href=\"https://colab.research.google.com/github/wh891230/Computational-Thinking-and-Program-Design/blob/master/Week15_A108260081_%E7%8E%8B%E7%81%9D.ipynb\" target=\"_parent\"><img src=\"https://colab.research.google.com/assets/colab-badge.svg\" alt=\"Open In Colab\"/></a>"
      ]
    },
    {
      "cell_type": "code",
      "metadata": {
        "id": "RI0kcVLBqriV",
        "colab_type": "code",
        "outputId": "99db5143-3fed-4c86-e191-56ba71cf9453",
        "colab": {
          "base_uri": "https://localhost:8080/",
          "height": 102
        }
      },
      "source": [
        "n = 1\n",
        "while n < 5:\n",
        "  print(\"變數n是\", n)\n",
        "  n = n + 1\n",
        "print(\"Finished\")"
      ],
      "execution_count": 0,
      "outputs": [
        {
          "output_type": "stream",
          "text": [
            "變數n是 1\n",
            "變數n是 2\n",
            "變數n是 3\n",
            "變數n是 4\n",
            "Finished\n"
          ],
          "name": "stdout"
        }
      ]
    },
    {
      "cell_type": "code",
      "metadata": {
        "id": "3hU7Aq0vrL70",
        "colab_type": "code",
        "outputId": "66583dcf-047e-48c5-eb2c-823f1d4a9b4a",
        "colab": {
          "base_uri": "https://localhost:8080/",
          "height": 187
        }
      },
      "source": [
        "x = 0\n",
        "while x < 10:\n",
        "  print(\"hello\")\n",
        "  x = x + 1"
      ],
      "execution_count": 0,
      "outputs": [
        {
          "output_type": "stream",
          "text": [
            "hello\n",
            "hello\n",
            "hello\n",
            "hello\n",
            "hello\n",
            "hello\n",
            "hello\n",
            "hello\n",
            "hello\n",
            "hello\n"
          ],
          "name": "stdout"
        }
      ]
    },
    {
      "cell_type": "code",
      "metadata": {
        "id": "OUAAvpu9t0KV",
        "colab_type": "code",
        "outputId": "4d5c4ad0-e71c-44e4-f723-b6c4c3e34134",
        "colab": {
          "base_uri": "https://localhost:8080/",
          "height": 187
        }
      },
      "source": [
        "times = 0\n",
        "while times < 10:\n",
        "  times = times + 1\n",
        "  print(\"這是第\", times, \"次的hello\")"
      ],
      "execution_count": 0,
      "outputs": [
        {
          "output_type": "stream",
          "text": [
            "這是第 1 次的hello\n",
            "這是第 2 次的hello\n",
            "這是第 3 次的hello\n",
            "這是第 4 次的hello\n",
            "這是第 5 次的hello\n",
            "這是第 6 次的hello\n",
            "這是第 7 次的hello\n",
            "這是第 8 次的hello\n",
            "這是第 9 次的hello\n",
            "這是第 10 次的hello\n"
          ],
          "name": "stdout"
        }
      ]
    },
    {
      "cell_type": "code",
      "metadata": {
        "id": "r6-Zncs7uS7Q",
        "colab_type": "code",
        "outputId": "e5644fe8-9266-46d2-b518-341162e16efd",
        "colab": {
          "base_uri": "https://localhost:8080/",
          "height": 34
        }
      },
      "source": [
        "x = 0\n",
        "result = 0\n",
        "while x < 10:\n",
        "  x = x + 1\n",
        "  result = result + x\n",
        "print(\"答案是\", result)"
      ],
      "execution_count": 0,
      "outputs": [
        {
          "output_type": "stream",
          "text": [
            "答案是 55\n"
          ],
          "name": "stdout"
        }
      ]
    },
    {
      "cell_type": "code",
      "metadata": {
        "id": "PLISZsK5wAzV",
        "colab_type": "code",
        "outputId": "c3c526a2-af32-4430-9474-c568bb268ac2",
        "colab": {
          "base_uri": "https://localhost:8080/",
          "height": 34
        }
      },
      "source": [
        "x = 0\n",
        "result = 0\n",
        "\n",
        "while result <= 50:\n",
        "  x = x + 1\n",
        "  result = result + x\n",
        "print(\"最後加總的x是\", x)"
      ],
      "execution_count": 0,
      "outputs": [
        {
          "output_type": "stream",
          "text": [
            "最後加總的x是 10\n"
          ],
          "name": "stdout"
        }
      ]
    },
    {
      "cell_type": "code",
      "metadata": {
        "id": "7CzdNocixczX",
        "colab_type": "code",
        "outputId": "c5edb981-c209-44b5-a9f6-be694f45dda7",
        "colab": {
          "base_uri": "https://localhost:8080/",
          "height": 34
        }
      },
      "source": [
        "sum = 1\n",
        "x = 0\n",
        "\n",
        "while sum < 11:\n",
        "  x = x + sum\n",
        "  sum = sum + 2\n",
        "print(\"1+3+5+7+9=\", x)"
      ],
      "execution_count": 0,
      "outputs": [
        {
          "output_type": "stream",
          "text": [
            "1+3+5+7+9= 25\n"
          ],
          "name": "stdout"
        }
      ]
    },
    {
      "cell_type": "code",
      "metadata": {
        "id": "BG79dvXKzfLW",
        "colab_type": "code",
        "outputId": "7c2d2434-d0b7-49b7-9424-bab773ee2757",
        "colab": {
          "base_uri": "https://localhost:8080/",
          "height": 34
        }
      },
      "source": [
        "x = 0\n",
        "result = 0\n",
        "\n",
        "while x <= 1000:\n",
        "  result += 1\n",
        "  x += result*result\n",
        "print('最小的n值為', result)"
      ],
      "execution_count": 0,
      "outputs": [
        {
          "output_type": "stream",
          "text": [
            "最小的n值為 14\n"
          ],
          "name": "stdout"
        }
      ]
    },
    {
      "cell_type": "code",
      "metadata": {
        "id": "loeAYwz63prp",
        "colab_type": "code",
        "outputId": "f3582b5b-5767-4b31-dba2-d1f97a6ee6b3",
        "colab": {
          "base_uri": "https://localhost:8080/",
          "height": 68
        }
      },
      "source": [
        "i = 1\n",
        "while (i < 6):\n",
        "  print(i)\n",
        "  if i == 3:\n",
        "    break\n",
        "  i += 1"
      ],
      "execution_count": 2,
      "outputs": [
        {
          "output_type": "stream",
          "text": [
            "1\n",
            "2\n",
            "3\n"
          ],
          "name": "stdout"
        }
      ]
    },
    {
      "cell_type": "code",
      "metadata": {
        "id": "TcF36g9L4iPX",
        "colab_type": "code",
        "colab": {
          "base_uri": "https://localhost:8080/",
          "height": 34
        },
        "outputId": "1665b006-81a4-4fca-95a7-19f5ed32d6ed"
      },
      "source": [
        "i = 1\n",
        "while (i < 7):\n",
        "  i += 1\n",
        "  if i == 3:\n",
        "    break\n",
        "  print(i)"
      ],
      "execution_count": 4,
      "outputs": [
        {
          "output_type": "stream",
          "text": [
            "2\n"
          ],
          "name": "stdout"
        }
      ]
    },
    {
      "cell_type": "code",
      "metadata": {
        "id": "6kQebCGk5Gqn",
        "colab_type": "code",
        "colab": {}
      },
      "source": [
        ""
      ],
      "execution_count": 0,
      "outputs": []
    }
  ]
}