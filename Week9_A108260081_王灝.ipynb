{
  "nbformat": 4,
  "nbformat_minor": 0,
  "metadata": {
    "colab": {
      "name": "Week9-A108260081-王灝.ipynb",
      "provenance": [],
      "include_colab_link": true
    },
    "kernelspec": {
      "name": "python3",
      "display_name": "Python 3"
    }
  },
  "cells": [
    {
      "cell_type": "markdown",
      "metadata": {
        "id": "view-in-github",
        "colab_type": "text"
      },
      "source": [
        "<a href=\"https://colab.research.google.com/github/wh891230/Computational-Thinking-and-Program-Design/blob/master/Week9_A108260081_%E7%8E%8B%E7%81%9D.ipynb\" target=\"_parent\"><img src=\"https://colab.research.google.com/assets/colab-badge.svg\" alt=\"Open In Colab\"/></a>"
      ]
    },
    {
      "cell_type": "code",
      "metadata": {
        "id": "NXOW-ON7fkd3",
        "colab_type": "code",
        "colab": {
          "base_uri": "https://localhost:8080/",
          "height": 51
        },
        "outputId": "8308f97f-92e6-4537-ba2b-2bda0a2e415b"
      },
      "source": [
        "score = int(input('請輸入⼀個成績？'))\n",
        "if score >= 60:\n",
        " print('很好，請繼續保持下去')"
      ],
      "execution_count": 1,
      "outputs": [
        {
          "output_type": "stream",
          "text": [
            "請輸入⼀個成績？88\n",
            "很好，請繼續保持下去\n"
          ],
          "name": "stdout"
        }
      ]
    },
    {
      "cell_type": "code",
      "metadata": {
        "id": "SKu04bi5hTJz",
        "colab_type": "code",
        "colab": {
          "base_uri": "https://localhost:8080/",
          "height": 51
        },
        "outputId": "b965d222-6e9f-4805-bd0b-3fa04775af6a"
      },
      "source": [
        "score = int(input('請輸入⼀個成績？'))\n",
        "if score >= 60:\n",
        " print('有及格ㄡ～')\n",
        "else:\n",
        " print('不及格ㄟ！')"
      ],
      "execution_count": 3,
      "outputs": [
        {
          "output_type": "stream",
          "text": [
            "請輸入⼀個成績？50\n",
            "不及格ㄟ！\n"
          ],
          "name": "stdout"
        }
      ]
    },
    {
      "cell_type": "code",
      "metadata": {
        "id": "GmOMbIXYhaXP",
        "colab_type": "code",
        "colab": {
          "base_uri": "https://localhost:8080/",
          "height": 51
        },
        "outputId": "ae092ba4-d651-415a-977e-b87fe09d9216"
      },
      "source": [
        "score = int(input('請輸入⼀個成績？'))\n",
        "if score >= 80:\n",
        " print('非常好')\n",
        "elif score >= 60:\n",
        " print('不錯喔')\n",
        "else:\n",
        " print('要加油')"
      ],
      "execution_count": 4,
      "outputs": [
        {
          "output_type": "stream",
          "text": [
            "請輸入⼀個成績？66\n",
            "不錯喔\n"
          ],
          "name": "stdout"
        }
      ]
    },
    {
      "cell_type": "code",
      "metadata": {
        "id": "0TFtZHTdhjsa",
        "colab_type": "code",
        "colab": {
          "base_uri": "https://localhost:8080/",
          "height": 68
        },
        "outputId": "3040869d-431e-42a3-9bce-ddf4956d0921"
      },
      "source": [
        "x = float(input('請輸入該點的X座標？'))\n",
        "y = float(input('請輸入該點的Y座標？'))\n",
        "\n",
        "if (x > 0):\n",
        " if (y > 0):\n",
        "  print('該點在第一象限')\n",
        " else:\n",
        "  print('該點在第四象限')\n",
        "else:\n",
        " if (y > 0):\n",
        "  print('該點在第⼆象限')\n",
        " else:\n",
        "  print('該點在第三象限')"
      ],
      "execution_count": 11,
      "outputs": [
        {
          "output_type": "stream",
          "text": [
            "請輸入該點的X座標？1\n",
            "請輸入該點的Y座標？1\n",
            "該點在第一象限\n"
          ],
          "name": "stdout"
        }
      ]
    },
    {
      "cell_type": "code",
      "metadata": {
        "id": "srA1UNIrlkXO",
        "colab_type": "code",
        "colab": {
          "base_uri": "https://localhost:8080/",
          "height": 51
        },
        "outputId": "9303bcd7-6bf6-40f6-b838-5fd3a60bd78d"
      },
      "source": [
        "cost = int(input('請輸入購買金額？'))\n",
        "if cost >= 2000:\n",
        "  print(cost * 0.9)\n",
        "else:\n",
        " print(cost)"
      ],
      "execution_count": 14,
      "outputs": [
        {
          "output_type": "stream",
          "text": [
            "請輸入購買金額？2000\n",
            "1800.0\n"
          ],
          "name": "stdout"
        }
      ]
    },
    {
      "cell_type": "code",
      "metadata": {
        "id": "Arj8vg3Onkfy",
        "colab_type": "code",
        "colab": {
          "base_uri": "https://localhost:8080/",
          "height": 51
        },
        "outputId": "2f3be7e1-8999-4fa5-d298-f8e4d0aa5889"
      },
      "source": [
        "num = int(input('請輸入一個整數？'))\n",
        "if num % 2 == 0:\n",
        "  print(num, '為偶數')\n",
        "else:\n",
        "  print(num, '為奇數')    "
      ],
      "execution_count": 23,
      "outputs": [
        {
          "output_type": "stream",
          "text": [
            "請輸入一個整數？13\n",
            "13 為奇數\n"
          ],
          "name": "stdout"
        }
      ]
    },
    {
      "cell_type": "code",
      "metadata": {
        "id": "d14w1r_fn0_v",
        "colab_type": "code",
        "colab": {
          "base_uri": "https://localhost:8080/",
          "height": 51
        },
        "outputId": "080ff12a-1d99-4862-fe29-b06f6dae844b"
      },
      "source": [
        "num = int(input('請輸入⼀個整數？'))\n",
        "if num % 2 == 1:\n",
        " print(num, '為奇數')\n",
        "else:\n",
        " print(num, '為偶數')"
      ],
      "execution_count": 24,
      "outputs": [
        {
          "output_type": "stream",
          "text": [
            "請輸入⼀個整數？13\n",
            "13 為奇數\n"
          ],
          "name": "stdout"
        }
      ]
    },
    {
      "cell_type": "code",
      "metadata": {
        "id": "6Xwo8tRmoyAS",
        "colab_type": "code",
        "colab": {
          "base_uri": "https://localhost:8080/",
          "height": 85
        },
        "outputId": "760dcd3d-750e-493e-d2ad-74edb113cb8e"
      },
      "source": [
        "a = int(input('請輸入三⾓形邊長a長度為？'))\n",
        "b = int(input('請輸入三⾓形邊長b長度為？'))\n",
        "c = int(input('請輸入三⾓形邊長c長度為？'))\n",
        "if (a<b+c)and(b<a+c)and(c<a+b):\n",
        " print('可構成三⾓形')\n",
        "else:\n",
        " print('無法構成三⾓形')"
      ],
      "execution_count": 25,
      "outputs": [
        {
          "output_type": "stream",
          "text": [
            "請輸入三⾓形邊長a長度為？11\n",
            "請輸入三⾓形邊長b長度為？12\n",
            "請輸入三⾓形邊長c長度為？13\n",
            "可構成三⾓形\n"
          ],
          "name": "stdout"
        }
      ]
    },
    {
      "cell_type": "code",
      "metadata": {
        "id": "q8fD4s4Jo2lJ",
        "colab_type": "code",
        "colab": {
          "base_uri": "https://localhost:8080/",
          "height": 85
        },
        "outputId": "d0c8fced-58b6-4996-c790-8fc62c0d6587"
      },
      "source": [
        "w = float(input('請輸入體重(KG)？'))\n",
        "h = float(input('請輸入⾝⾼(M)？'))\n",
        "bmi = w/(h*h)\n",
        "print('BMI為', bmi)\n",
        "if bmi < 18:\n",
        " print('體重過輕')\n",
        "elif bmi < 24:\n",
        " print('體重正常')\n",
        "elif bmi < 27:\n",
        " print('體重過重')\n",
        "else:\n",
        " print('體重肥胖')"
      ],
      "execution_count": 26,
      "outputs": [
        {
          "output_type": "stream",
          "text": [
            "請輸入體重(KG)？75\n",
            "請輸入⾝⾼(M)？1.7\n",
            "BMI為 25.95155709342561\n",
            "體重過重\n"
          ],
          "name": "stdout"
        }
      ]
    },
    {
      "cell_type": "code",
      "metadata": {
        "id": "hxlzPt4Co7ru",
        "colab_type": "code",
        "colab": {}
      },
      "source": [
        ""
      ],
      "execution_count": 0,
      "outputs": []
    }
  ]
}