{
  "nbformat": 4,
  "nbformat_minor": 0,
  "metadata": {
    "colab": {
      "name": "Week6-A108260081-王灝.ipynb",
      "provenance": [],
      "include_colab_link": true
    },
    "kernelspec": {
      "name": "python3",
      "display_name": "Python 3"
    }
  },
  "cells": [
    {
      "cell_type": "markdown",
      "metadata": {
        "id": "view-in-github",
        "colab_type": "text"
      },
      "source": [
        "<a href=\"https://colab.research.google.com/github/wh891230/Computational-Thinking-and-Program-Design/blob/master/Week6_A108260081_%E7%8E%8B%E7%81%9D.ipynb\" target=\"_parent\"><img src=\"https://colab.research.google.com/assets/colab-badge.svg\" alt=\"Open In Colab\"/></a>"
      ]
    },
    {
      "cell_type": "code",
      "metadata": {
        "id": "WLU_cLS4RrfT",
        "colab_type": "code",
        "outputId": "865aba03-5eab-4c53-a887-a959a31e2ad6",
        "colab": {
          "base_uri": "https://localhost:8080/",
          "height": 85
        }
      },
      "source": [
        "x=int(input(' 請輸入第一次期中考成績？ ' ))\n",
        "y=int(input(' 請輸入第二次期中考成績？ ' ))\n",
        "z=int(input(' 請輸入期末考成績？ ' ))\n",
        "w=x+y+z\n",
        "s=(w/3)\n",
        "print('總分為',w,'平均為',s)"
      ],
      "execution_count": 0,
      "outputs": [
        {
          "output_type": "stream",
          "text": [
            " 請輸入第一次期中考成績？ 75\n",
            " 請輸入第二次期中考成績？ 80\n",
            " 請輸入期末考成績？ 65\n",
            "總分為 220 平均為 73.33333333333333\n"
          ],
          "name": "stdout"
        }
      ]
    },
    {
      "cell_type": "code",
      "metadata": {
        "id": "tEQPKqsbXI9a",
        "colab_type": "code",
        "outputId": "a5ad82ef-0222-4a17-e2e6-77afd704acec",
        "colab": {
          "base_uri": "https://localhost:8080/",
          "height": 68
        }
      },
      "source": [
        "x=int(input('請輸入幾尺?'))\n",
        "y=int(input('請輸入幾吋?'))\n",
        "z=(x*12+y)*2.54\n",
        "print('轉換成',z,'公分')"
      ],
      "execution_count": 0,
      "outputs": [
        {
          "output_type": "stream",
          "text": [
            "請輸入幾尺?5\n",
            "請輸入幾吋?8\n",
            "轉換成 172.72 公分\n"
          ],
          "name": "stdout"
        }
      ]
    },
    {
      "cell_type": "code",
      "metadata": {
        "id": "6LIt7NevbIqJ",
        "colab_type": "code",
        "outputId": "436fe150-9821-4cdc-fcd8-7a2a0006833c",
        "colab": {
          "base_uri": "https://localhost:8080/",
          "height": 51
        }
      },
      "source": [
        "x=int(input('請輸入座號？'))\n",
        "y=4\n",
        "print('組別為',y)\n"
      ],
      "execution_count": 0,
      "outputs": [
        {
          "output_type": "stream",
          "text": [
            "請輸入座號？19\n",
            "組別為 4\n"
          ],
          "name": "stdout"
        }
      ]
    },
    {
      "cell_type": "code",
      "metadata": {
        "id": "i5o7krTmeiQY",
        "colab_type": "code",
        "outputId": "43101827-e0f7-48d4-c85d-45c2a005cadf",
        "colab": {
          "base_uri": "https://localhost:8080/",
          "height": 34
        }
      },
      "source": [
        "x=int(input('請輸入購買飲料的罐數？'))"
      ],
      "execution_count": 0,
      "outputs": [
        {
          "output_type": "stream",
          "text": [
            "請輸入購買飲料的罐數？30\n"
          ],
          "name": "stdout"
        }
      ]
    },
    {
      "cell_type": "code",
      "metadata": {
        "id": "myVwONMvhcJx",
        "colab_type": "code",
        "colab": {}
      },
      "source": [
        ""
      ],
      "execution_count": 0,
      "outputs": []
    }
  ]
}