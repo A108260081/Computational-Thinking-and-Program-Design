{
  "nbformat": 4,
  "nbformat_minor": 0,
  "metadata": {
    "colab": {
      "name": "Week6-A108260081-王灝.ipynb",
      "provenance": [],
      "include_colab_link": true
    },
    "kernelspec": {
      "name": "python3",
      "display_name": "Python 3"
    }
  },
  "cells": [
    {
      "cell_type": "markdown",
      "metadata": {
        "id": "view-in-github",
        "colab_type": "text"
      },
      "source": [
        "<a href=\"https://colab.research.google.com/github/wh891230/Computational-Thinking-and-Program-Design/blob/master/Week6_A108260081_%E7%8E%8B%E7%81%9D.ipynb\" target=\"_parent\"><img src=\"https://colab.research.google.com/assets/colab-badge.svg\" alt=\"Open In Colab\"/></a>"
      ]
    },
    {
      "cell_type": "code",
      "metadata": {
        "id": "WLU_cLS4RrfT",
        "colab_type": "code",
        "outputId": "865aba03-5eab-4c53-a887-a959a31e2ad6",
        "colab": {
          "base_uri": "https://localhost:8080/",
          "height": 85
        }
      },
      "source": [
        "x=int(input(' 請輸入第一次期中考成績？ ' ))\n",
        "y=int(input(' 請輸入第二次期中考成績？ ' ))\n",
        "z=int(input(' 請輸入期末考成績？ ' ))\n",
        "w=x+y+z\n",
        "s=(w/3)\n",
        "print('總分為',w,'平均為',s)"
      ],
      "execution_count": 0,
      "outputs": [
        {
          "output_type": "stream",
          "text": [
            " 請輸入第一次期中考成績？ 75\n",
            " 請輸入第二次期中考成績？ 80\n",
            " 請輸入期末考成績？ 65\n",
            "總分為 220 平均為 73.33333333333333\n"
          ],
          "name": "stdout"
        }
      ]
    },
    {
      "cell_type": "code",
      "metadata": {
        "id": "tEQPKqsbXI9a",
        "colab_type": "code",
        "outputId": "a5ad82ef-0222-4a17-e2e6-77afd704acec",
        "colab": {
          "base_uri": "https://localhost:8080/",
          "height": 68
        }
      },
      "source": [
        "x=int(input('請輸入幾尺?'))\n",
        "y=int(input('請輸入幾吋?'))\n",
        "z=(x*12+y)*2.54\n",
        "print('轉換成',z,'公分')"
      ],
      "execution_count": 0,
      "outputs": [
        {
          "output_type": "stream",
          "text": [
            "請輸入幾尺?5\n",
            "請輸入幾吋?8\n",
            "轉換成 172.72 公分\n"
          ],
          "name": "stdout"
        }
      ]
    },
    {
      "cell_type": "code",
      "metadata": {
        "id": "6LIt7NevbIqJ",
        "colab_type": "code",
        "outputId": "db2a6b21-b1e3-49d1-abbd-21069ecd654e",
        "colab": {
          "base_uri": "https://localhost:8080/",
          "height": 51
        }
      },
      "source": [
        "x=int(input('請輸入座號？'))\n",
        "y=x/5\n",
        "z=int(y+1)\n",
        "print('組別為',z)\n"
      ],
      "execution_count": 2,
      "outputs": [
        {
          "output_type": "stream",
          "text": [
            "請輸入座號？19\n",
            "組別為 4\n"
          ],
          "name": "stdout"
        }
      ]
    },
    {
      "cell_type": "code",
      "metadata": {
        "id": "i5o7krTmeiQY",
        "colab_type": "code",
        "outputId": "e9afcc46-9f2f-4923-b739-9e2c99ec8be5",
        "colab": {
          "base_uri": "https://localhost:8080/",
          "height": 51
        }
      },
      "source": [
        "x=int(input('請輸入購買飲料的罐數？'))\n",
        "y=int(x/12)\n",
        "z=int(x-y*12)\n",
        "Py=y*200\n",
        "Pz=z*20\n",
        "P=Py+Pz\n",
        "print('需花費',P)"
      ],
      "execution_count": 5,
      "outputs": [
        {
          "output_type": "stream",
          "text": [
            "請輸入購買飲料的罐數？30\n",
            "需花費 520\n"
          ],
          "name": "stdout"
        }
      ]
    },
    {
      "cell_type": "code",
      "metadata": {
        "id": "myVwONMvhcJx",
        "colab_type": "code",
        "colab": {}
      },
      "source": [
        ""
      ],
      "execution_count": 0,
      "outputs": []
    }
  ]
}