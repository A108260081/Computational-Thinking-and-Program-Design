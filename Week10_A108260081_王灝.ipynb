{
  "nbformat": 4,
  "nbformat_minor": 0,
  "metadata": {
    "colab": {
      "name": "Week10-A108260081-王灝.ipynb",
      "provenance": [],
      "include_colab_link": true
    },
    "kernelspec": {
      "name": "python3",
      "display_name": "Python 3"
    }
  },
  "cells": [
    {
      "cell_type": "markdown",
      "metadata": {
        "id": "view-in-github",
        "colab_type": "text"
      },
      "source": [
        "<a href=\"https://colab.research.google.com/github/wh891230/Computational-Thinking-and-Program-Design/blob/master/Week10_A108260081_%E7%8E%8B%E7%81%9D.ipynb\" target=\"_parent\"><img src=\"https://colab.research.google.com/assets/colab-badge.svg\" alt=\"Open In Colab\"/></a>"
      ]
    },
    {
      "cell_type": "code",
      "metadata": {
        "id": "5egeXLTQUY8E",
        "colab_type": "code",
        "colab": {
          "base_uri": "https://localhost:8080/",
          "height": 102
        },
        "outputId": "72bff8c6-7909-4ff1-f1f9-363fa29d5d43"
      },
      "source": [
        "print(\"You are on a deserted island in a 2D world.\")\n",
        "print(\"Try to survive until rescue arrives!\")\n",
        "print(\"Available commands are in CAPITAL letters.\")\n",
        "print(\"Any other command exits the program\")\n",
        "print(\"First LOOK around...\")"
      ],
      "execution_count": 1,
      "outputs": [
        {
          "output_type": "stream",
          "text": [
            "You are on a deserted island in a 2D world.\n",
            "Try to survive until rescue arrives!\n",
            "Available commands are in CAPITAL letters.\n",
            "Any other command exits the program\n",
            "First LOOK around...\n"
          ],
          "name": "stdout"
        }
      ]
    },
    {
      "cell_type": "code",
      "metadata": {
        "id": "7l_k0GKYavVQ",
        "colab_type": "code",
        "colab": {
          "base_uri": "https://localhost:8080/",
          "height": 289
        },
        "outputId": "0aaeec00-9f94-4f40-d7b7-fff072fdc772"
      },
      "source": [
        "do = input(\":: \")\n",
        "if do == \"LOOK\":\n",
        "  print(\"You are stuck in a sand ditch.\")\n",
        "  print(\"Crawl out LEFT or RIGHT.\")\n",
        "  do = input(\":: \")\n",
        "  if do == \"LEFT\":\n",
        "    print(\"You see a STARFISH and a CRAB on the sanf.\")\n",
        "    do  = input(\":: \")\n",
        "    if do == \"STARFISH\":\n",
        "      print(\"Oh no! You immediately don't feel well.\")\n",
        "      print(\"\\You do not survive :(\")\n",
        "    elif do == \"CRAB\":\n",
        "      print(\"Raw crab should be fine, right? YES or NO\")\n",
        "      do = input(\"::\")\n",
        "      if do == \"YES\":\n",
        "       print(\"Ok, you eat it raw. Fingers crossed.\")\n",
        "       print(\"Food in your belly helps you see a TREE\")\n",
        "       do = input(\"::\")\n",
        "       if do == \"TREE\":\n",
        "        print(\"It's a coconut tree! And you're thirsty\")\n",
        "        print(\"Do you drink the coconut water? YES or NO.\")\n",
        "        do = input(\"::\")\n",
        "        if do == \"YES\":\n",
        "          print(\"Oh boy. Coconut water and raw crab dont mix.\")\n",
        "          print(\"You do not survive :(\")\n",
        "        elif do == \"NO\":\n",
        "          print(\"good choice,\")\n",
        "          print(\"Look! It's a rescue plane! You made it! \\o/\")\n",
        "      elif do == \"NO\":\n",
        "        print(\"Well, there's nothing else left to eat.\")\n",
        "        print(\"You do not survive :(\")\n",
        "    elif do == \"RIGHT\":\n",
        "      print(\"No can do. That side is very slippery.\")\n",
        "      print(\"Youfall very far into some weird cavern.\")\n",
        "      print(\"Ypu do not survive:(\")\n",
        "else:\n",
        "  print(\"You can only do action shown in capital letters.\")\n",
        "  print(\"Try again!\")"
      ],
      "execution_count": 24,
      "outputs": [
        {
          "output_type": "stream",
          "text": [
            ":: LOOK\n",
            "You are stuck in a sand ditch.\n",
            "Crawl out LEFT or RIGHT.\n",
            ":: LEFT\n",
            "You see a STARFISH and a CRAB on the sanf.\n",
            ":: CRAB\n",
            "Raw crab should be fine, right? YES or NO\n",
            "::YES\n",
            "Ok, you eat it raw. Fingers crossed.\n",
            "Food in your belly helps you see a TREE\n",
            "::TREE\n",
            "It's a coconut tree! And you're thirsty\n",
            "Do you drink the coconut water? YES or NO.\n",
            "::NO\n",
            "good choice,\n",
            "Look! It's a rescue plane! You made it! \\o/\n"
          ],
          "name": "stdout"
        }
      ]
    },
    {
      "cell_type": "code",
      "metadata": {
        "id": "7heKIZTMa8bS",
        "colab_type": "code",
        "colab": {
          "base_uri": "https://localhost:8080/",
          "height": 68
        },
        "outputId": "704db521-b6de-4125-a26c-a5c4a608941c"
      },
      "source": [
        "import random\n",
        "my = int(input(\"請出拳 [0] 剪刀 [1] 石頭 [2]布\"))\n",
        "print(\"我出拳為\", my)\n",
        "computer = random. randint(0, 2)\n",
        "print(\"電腦出拳為\", computer)"
      ],
      "execution_count": 35,
      "outputs": [
        {
          "output_type": "stream",
          "text": [
            "請出拳 [0] 剪刀 [1] 石頭 [2]布2\n",
            "我出拳為 2\n",
            "電腦出拳為 0\n"
          ],
          "name": "stdout"
        }
      ]
    },
    {
      "cell_type": "code",
      "metadata": {
        "id": "Pl7fPWHflLYv",
        "colab_type": "code",
        "colab": {
          "base_uri": "https://localhost:8080/",
          "height": 34
        },
        "outputId": "b49092c7-ba9f-4048-b45a-9cc6f624b84d"
      },
      "source": [
        "if my == 0:\n",
        " if computer == 0:\n",
        "  print('平⼿')\n",
        " elif computer == 1:\n",
        "  print('電腦獲勝')\n",
        " else:\n",
        "  print('玩家獲勝')\n",
        "elif my == 1:\n",
        " if computer == 0:\n",
        "  print('玩家獲勝')\n",
        " elif computer == 1:\n",
        "  print('平⼿')\n",
        " else:\n",
        "  print('電腦獲勝')\n",
        "else:\n",
        " if computer == 1:\n",
        "  print('電腦獲勝')\n",
        " elif computer == 2:\n",
        "  print('玩家獲勝')\n",
        " else:\n",
        "  print('平⼿')"
      ],
      "execution_count": 33,
      "outputs": [
        {
          "output_type": "stream",
          "text": [
            "平⼿\n"
          ],
          "name": "stdout"
        }
      ]
    },
    {
      "cell_type": "code",
      "metadata": {
        "id": "EUngx4ySleHz",
        "colab_type": "code",
        "colab": {
          "base_uri": "https://localhost:8080/",
          "height": 68
        },
        "outputId": "834b1030-bbee-411e-972f-0ee7b2715ea3"
      },
      "source": [
        "import random\n",
        "my_choice = int(input(\"請出拳 [0] 剪⼑ [1] ⽯頭 [2] 布\"))\n",
        "print(\"我出拳為\", my_choice)\n",
        "com_choice = random.randint(0, 2)\n",
        "print(\"電腦出拳為\", com_choice)"
      ],
      "execution_count": 41,
      "outputs": [
        {
          "output_type": "stream",
          "text": [
            "請出拳 [0] 剪⼑ [1] ⽯頭 [2] 布1\n",
            "我出拳為 1\n",
            "電腦出拳為 1\n"
          ],
          "name": "stdout"
        }
      ]
    },
    {
      "cell_type": "code",
      "metadata": {
        "id": "kCZumjCJnpGV",
        "colab_type": "code",
        "colab": {
          "base_uri": "https://localhost:8080/",
          "height": 34
        },
        "outputId": "0e027848-d24f-4cb4-9393-5c070766e67c"
      },
      "source": [
        "if my_choice == (com_choice + 1) % 3:\n",
        "  print(\"我贏了\")\n",
        "elif my_choice == com_choice:\n",
        "  print(\"平手\")\n",
        "else:\n",
        "  print(\"我輸了\")"
      ],
      "execution_count": 42,
      "outputs": [
        {
          "output_type": "stream",
          "text": [
            "平手\n"
          ],
          "name": "stdout"
        }
      ]
    },
    {
      "cell_type": "code",
      "metadata": {
        "id": "0iy8RP8DoSeu",
        "colab_type": "code",
        "colab": {
          "base_uri": "https://localhost:8080/",
          "height": 68
        },
        "outputId": "8f88c5a4-f22e-4268-f091-e641e75fb275"
      },
      "source": [
        "import random \n",
        "my_choice = int(input(\"請出拳 [0] 蟲 [1] 雞 [2] 老虎 [3] 棒子\"))\n",
        "print(\"你出的拳:\", my_choice)\n",
        "com_choice = random. randint(0,3)\n",
        "print(\"電腦出拳為\", com_choice)"
      ],
      "execution_count": 45,
      "outputs": [
        {
          "output_type": "stream",
          "text": [
            "請出拳 [0] 蟲 [1] 雞 [2] 老虎 [3] 棒子3\n",
            "你出的拳: 3\n",
            "電腦出拳為 2\n"
          ],
          "name": "stdout"
        }
      ]
    },
    {
      "cell_type": "code",
      "metadata": {
        "id": "NYaU4Hh3pUZN",
        "colab_type": "code",
        "colab": {
          "base_uri": "https://localhost:8080/",
          "height": 34
        },
        "outputId": "e0eca60f-e79c-46fd-ad44-6fc7a6e91efd"
      },
      "source": [
        "if my_choice == (com_choice + 1) % 4:\n",
        "  print(\"我贏了\")\n",
        "elif com_choice == (my_cjoice + 1) % 4:\n",
        "  print(\"電腦贏了\")\n",
        "else:\n",
        "  print(\"平手\")"
      ],
      "execution_count": 47,
      "outputs": [
        {
          "output_type": "stream",
          "text": [
            "我贏了\n"
          ],
          "name": "stdout"
        }
      ]
    },
    {
      "cell_type": "code",
      "metadata": {
        "id": "mPBJOENwp7m1",
        "colab_type": "code",
        "colab": {
          "base_uri": "https://localhost:8080/",
          "height": 51
        },
        "outputId": "cf314300-af52-44ed-e75e-63ee4c6feeef"
      },
      "source": [
        "度數 = float(input(\"請輸入眼睛度數?\"))\n",
        "if 度數<0.9:\n",
        "  print(\"近視\")\n",
        "else:\n",
        "  print(\"視力正常\")"
      ],
      "execution_count": 66,
      "outputs": [
        {
          "output_type": "stream",
          "text": [
            "請輸入眼睛度數?0.8\n",
            "近視\n"
          ],
          "name": "stdout"
        }
      ]
    },
    {
      "cell_type": "code",
      "metadata": {
        "id": "gwrKEcgUqJdM",
        "colab_type": "code",
        "colab": {
          "base_uri": "https://localhost:8080/",
          "height": 51
        },
        "outputId": "9d378a37-a61d-4f10-c4b0-1bbc9befb313"
      },
      "source": [
        "year = int(input(\"輸入年份 \"))\n",
        "if (year % 4) == 0:\n",
        "   if (year % 100) == 0:\n",
        "       if (year % 400) == 0:\n",
        "           print(\"{0} 是閏年\".format(year))\n",
        "       else:\n",
        "           print(\"{0} 不是閏年\".format(year))\n",
        "   else:\n",
        "       print(\"{0} 是閏年\".format(year))\n",
        "else:\n",
        "   print(\"{0} 不是閏年\".format(year))"
      ],
      "execution_count": 63,
      "outputs": [
        {
          "output_type": "stream",
          "text": [
            "輸入年份 2012\n",
            "2012 是閏年\n"
          ],
          "name": "stdout"
        }
      ]
    },
    {
      "cell_type": "code",
      "metadata": {
        "id": "3s-AFjj2sTSg",
        "colab_type": "code",
        "colab": {}
      },
      "source": [
        ""
      ],
      "execution_count": 0,
      "outputs": []
    }
  ]
}